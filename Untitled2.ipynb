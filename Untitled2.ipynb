{
 "cells": [
  {
   "cell_type": "code",
   "execution_count": 2,
   "metadata": {},
   "outputs": [],
   "source": [
    "import Errors"
   ]
  },
  {
   "cell_type": "code",
   "execution_count": 3,
   "metadata": {},
   "outputs": [],
   "source": [
    "user_data = {}"
   ]
  },
  {
   "cell_type": "code",
   "execution_count": 9,
   "metadata": {},
   "outputs": [
    {
     "name": "stdout",
     "output_type": "stream",
     "text": [
      "please enter user namesfsdfsdf\n",
      "please enter passwordsdfsdfsdf\n"
     ]
    },
    {
     "ename": "UserNotFound",
     "evalue": "Wrong USer Name or Password",
     "output_type": "error",
     "traceback": [
      "\u001b[1;31m---------------------------------------------------------------------------\u001b[0m",
      "\u001b[1;31mUserNotFound\u001b[0m                              Traceback (most recent call last)",
      "\u001b[1;32m<ipython-input-9-14978a301b10>\u001b[0m in \u001b[0;36m<module>\u001b[1;34m()\u001b[0m\n\u001b[0;32m     34\u001b[0m \u001b[1;33m\u001b[0m\u001b[0m\n\u001b[0;32m     35\u001b[0m \u001b[0mperson1\u001b[0m \u001b[1;33m=\u001b[0m \u001b[0mvalidation\u001b[0m\u001b[1;33m(\u001b[0m\u001b[1;33m)\u001b[0m\u001b[1;33m\u001b[0m\u001b[0m\n\u001b[1;32m---> 36\u001b[1;33m \u001b[0mperson1\u001b[0m\u001b[1;33m.\u001b[0m\u001b[0mget_input\u001b[0m\u001b[1;33m(\u001b[0m\u001b[1;33m)\u001b[0m\u001b[1;33m\u001b[0m\u001b[0m\n\u001b[0m",
      "\u001b[1;32m<ipython-input-9-14978a301b10>\u001b[0m in \u001b[0;36mget_input\u001b[1;34m(self)\u001b[0m\n\u001b[0;32m     23\u001b[0m                 \u001b[0mf\u001b[0m\u001b[1;33m.\u001b[0m\u001b[0mclose\u001b[0m\u001b[1;33m(\u001b[0m\u001b[1;33m)\u001b[0m\u001b[1;33m\u001b[0m\u001b[0m\n\u001b[0;32m     24\u001b[0m             \u001b[1;32melse\u001b[0m\u001b[1;33m:\u001b[0m\u001b[1;33m\u001b[0m\u001b[0m\n\u001b[1;32m---> 25\u001b[1;33m                 \u001b[1;32mraise\u001b[0m \u001b[0mErrors\u001b[0m\u001b[1;33m.\u001b[0m\u001b[0mUserNotFound\u001b[0m\u001b[1;33m\u001b[0m\u001b[0m\n\u001b[0m\u001b[0;32m     26\u001b[0m \u001b[1;32mexcept\u001b[0m \u001b[0mErrors\u001b[0m\u001b[1;33m.\u001b[0m\u001b[0mUserExists\u001b[0m\u001b[1;33m:\u001b[0m\u001b[1;33m\u001b[0m\u001b[0m\n\u001b[0;32m     27\u001b[0m     \u001b[1;32mraise\u001b[0m\u001b[1;33m\u001b[0m\u001b[0m\n",
      "\u001b[1;31mUserNotFound\u001b[0m: Wrong USer Name or Password"
     ]
    }
   ],
   "source": [
    "try:\n",
    "    def user_initialization():\n",
    "        global user_data\n",
    "        name = input(\"Please Enter Name\")\n",
    "        password = input(\"Please enter Password\")\n",
    "        if name in user_data.keys():\n",
    "            raise Errors.UserExists\n",
    "        else:\n",
    "            user_data[name]=password\n",
    "\n",
    "    class validation:\n",
    "\n",
    "        def get_input(self):\n",
    "            global user_data\n",
    "            f = open(\"sample.txt\", \"r\")\n",
    "\n",
    "            name1 = input(\"please enter user name\")\n",
    "            pass1 = input(\"please enter password\")\n",
    "\n",
    "            if name1 in user_data.keys() and user_data[name1]==pass1:\n",
    "                f = open(\"sample.txt\", \"r\")\n",
    "                print(f.readlines())\n",
    "                f.close()\n",
    "            else:\n",
    "                raise Errors.UserNotFound\n",
    "except Errors.UserExists:\n",
    "    raise\n",
    "    \n",
    "except Errors.UserNotFound:\n",
    "    raise\n",
    "        \n",
    "#for i in range(5):\n",
    "    #user_initialization()\n",
    "\n",
    "person1 = validation()\n",
    "person1.get_input()"
   ]
  },
  {
   "cell_type": "code",
   "execution_count": null,
   "metadata": {},
   "outputs": [],
   "source": []
  }
 ],
 "metadata": {
  "kernelspec": {
   "display_name": "Python 3",
   "language": "python",
   "name": "python3"
  },
  "language_info": {
   "codemirror_mode": {
    "name": "ipython",
    "version": 3
   },
   "file_extension": ".py",
   "mimetype": "text/x-python",
   "name": "python",
   "nbconvert_exporter": "python",
   "pygments_lexer": "ipython3",
   "version": "3.6.4"
  }
 },
 "nbformat": 4,
 "nbformat_minor": 2
}
